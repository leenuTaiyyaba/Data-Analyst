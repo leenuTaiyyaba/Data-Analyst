{
 "cells": [
  {
   "cell_type": "code",
   "execution_count": 9,
   "id": "d88be579-a18a-4850-9212-043b64f3d4f9",
   "metadata": {},
   "outputs": [
    {
     "name": "stdout",
     "output_type": "stream",
     "text": [
      "[0 1 2 3 4 5]\n",
      "int32\n"
     ]
    }
   ],
   "source": [
    "import numpy as np\n",
    "arr = np.arange(6)\n",
    "print(arr)\n",
    "print(arr.dtype)\n"
   ]
  },
  {
   "cell_type": "code",
   "execution_count": 13,
   "id": "2acb1a51-8bcb-44f4-ba47-3a944a650dd7",
   "metadata": {},
   "outputs": [
    {
     "name": "stdout",
     "output_type": "stream",
     "text": [
      "The array is of type float64\n"
     ]
    }
   ],
   "source": [
    "arr = np.array([1.5,2.6,3.7])\n",
    "if arr.dtype == np.float64:\n",
    "    print(\"The array is of type float64\")\n",
    "else:\n",
    "    print(\"The array is not a type float64\")"
   ]
  },
  {
   "cell_type": "code",
   "execution_count": 17,
   "id": "9b3e757d-eeb0-4bd3-912a-7f153467425b",
   "metadata": {},
   "outputs": [
    {
     "name": "stdout",
     "output_type": "stream",
     "text": [
      "[1.+2.j 3.+4.j 5.+6.j]\n"
     ]
    }
   ],
   "source": [
    "import numpy as np\n",
    "arr = np.array([1+2j,3+4j,5+6j], dtype=np.complex128)\n",
    "print(arr)"
   ]
  },
  {
   "cell_type": "code",
   "execution_count": 25,
   "id": "c5db2c6f-a9f1-4e1a-85d3-06892d8c334e",
   "metadata": {},
   "outputs": [],
   "source": [
    "import numpy as np\n",
    "arr  = np.array([1, 2, 3, 4])\n",
    "arr_float = arr.astype(np.float32)"
   ]
  },
  {
   "cell_type": "code",
   "execution_count": 6,
   "id": "02a5b179-1f15-48d3-b232-fd22b8d02c88",
   "metadata": {},
   "outputs": [
    {
     "name": "stdout",
     "output_type": "stream",
     "text": [
      "[1.2345679 2.3345678 3.456789 ]\n"
     ]
    }
   ],
   "source": [
    "import numpy as np\n",
    "arr = np.array([1.23456789,2.334567891,3.45678912], dtype=np.float64)\n",
    "arr_float32 = arr.astype(np.float32)\n",
    "print(arr_float32)"
   ]
  },
  {
   "cell_type": "code",
   "execution_count": 12,
   "id": "34166930-ce70-47ba-a81a-63271cad23e7",
   "metadata": {},
   "outputs": [
    {
     "name": "stdout",
     "output_type": "stream",
     "text": [
      "((2, 3), 6, dtype('int32'))\n"
     ]
    }
   ],
   "source": [
    "import numpy as np\n",
    "def array_attribute(arr):\n",
    "    shape = arr.shape\n",
    "    size = arr.size\n",
    "    dtype = arr.dtype\n",
    "    return shape, size, dtype\n",
    "arr = np.array([[1,2,3], [4, 5, 6]])\n",
    "result = array_attribute(arr)\n",
    "print(result)"
   ]
  },
  {
   "cell_type": "code",
   "execution_count": 20,
   "id": "3f6ed8bd-6639-4973-9020-bac660859869",
   "metadata": {},
   "outputs": [
    {
     "name": "stdout",
     "output_type": "stream",
     "text": [
      "1\n",
      "2\n",
      "3\n"
     ]
    }
   ],
   "source": [
    "import numpy as np\n",
    "def array_dimension(arr):\n",
    "    return arr.ndim\n",
    "arr1 = np.array([1, 2, 3])\n",
    "arr2 = np.array([[1, 2], [3, 4]])\n",
    "arr3 = np.array([[[1], [2]], [[3], [4]]])\n",
    "print(array_dimension(arr1))\n",
    "print(array_dimension(arr2))\n",
    "print(array_dimension(arr3))      \n",
    "    "
   ]
  },
  {
   "cell_type": "code",
   "execution_count": 22,
   "id": "e440f149-0198-44ab-9b98-a3a2619c2ca2",
   "metadata": {},
   "outputs": [
    {
     "name": "stdout",
     "output_type": "stream",
     "text": [
      "(4, 16)\n"
     ]
    }
   ],
   "source": [
    "import numpy as np\n",
    "def item_size_info(arr):\n",
    "    item_size = arr.itemsize\n",
    "    total_size = arr.nbytes\n",
    "    return item_size, total_size\n",
    "arr = np.array([1, 2, 3, 4])\n",
    "size_info = item_size_info(arr)\n",
    "print(size_info)"
   ]
  },
  {
   "cell_type": "code",
   "execution_count": 26,
   "id": "b53ab40f-8ce5-45cd-9b5c-6aab9cd57258",
   "metadata": {},
   "outputs": [
    {
     "name": "stdout",
     "output_type": "stream",
     "text": [
      "(12, 4)\n"
     ]
    }
   ],
   "source": [
    "import numpy as np\n",
    "def array_strides(arr):\n",
    "    return arr.strides\n",
    "array = np.array([[1, 2, 3], [4, 5, 6]])\n",
    "strides = array_strides(array)\n",
    "print(strides)"
   ]
  },
  {
   "cell_type": "code",
   "execution_count": 30,
   "id": "ff034382-09b3-401c-8497-851e6e585c36",
   "metadata": {},
   "outputs": [
    {
     "name": "stdout",
     "output_type": "stream",
     "text": [
      "shape: (2, 3)\n",
      "strides: (12, 4)\n"
     ]
    }
   ],
   "source": [
    "import numpy as np\n",
    "def shape_stride_relationship(arr):\n",
    "    shape = arr.shape\n",
    "    strides = arr.strides\n",
    "    return shape, strides\n",
    "arr = np.array([[1, 2, 3], [4, 5, 6]])\n",
    "shape, strides = shape_stride_relationship(arr)\n",
    "print(\"shape:\",shape)\n",
    "print(\"strides:\",strides)"
   ]
  },
  {
   "cell_type": "code",
   "execution_count": 34,
   "id": "6bf4ce3c-79cc-41db-96e0-2fa08ef9305a",
   "metadata": {},
   "outputs": [
    {
     "name": "stdout",
     "output_type": "stream",
     "text": [
      "[0. 0. 0. 0. 0.]\n"
     ]
    }
   ],
   "source": [
    "import numpy as np\n",
    "def create_zeros_array(n):\n",
    "    zeros_array = np.zeros(n)\n",
    "    return zeros_array\n",
    "arr = create_zeros_array(5)\n",
    "print(arr)"
   ]
  },
  {
   "cell_type": "code",
   "execution_count": 56,
   "id": "367e74a3-023e-45da-ad5b-79d821d58036",
   "metadata": {},
   "outputs": [
    {
     "name": "stdout",
     "output_type": "stream",
     "text": [
      "[[1. 1. 1. 1.]\n",
      " [1. 1. 1. 1.]\n",
      " [1. 1. 1. 1.]]\n"
     ]
    }
   ],
   "source": [
    "import numpy as np\n",
    "def create_ones_matrix(rows,cols):\n",
    "    return np.ones((rows,cols))\n",
    "result = create_ones_matrix(3, 4)\n",
    "print(result)"
   ]
  },
  {
   "cell_type": "code",
   "execution_count": 58,
   "id": "e56301c1-3943-4dae-874e-782f57df6143",
   "metadata": {},
   "outputs": [
    {
     "name": "stdout",
     "output_type": "stream",
     "text": [
      "[0 2 4 6 8]\n"
     ]
    }
   ],
   "source": [
    "import numpy as np\n",
    "def generate_range_array(start, stop, step):\n",
    "    return np.arange(start, stop, step)\n",
    "result = generate_range_array(0, 10, 2)\n",
    "print(result)"
   ]
  },
  {
   "cell_type": "code",
   "execution_count": 64,
   "id": "84aaa3f9-5008-45fd-9698-4022f382ca85",
   "metadata": {},
   "outputs": [
    {
     "name": "stdout",
     "output_type": "stream",
     "text": [
      "[ 1.    3.25  5.5   7.75 10.  ]\n"
     ]
    }
   ],
   "source": [
    "def generate_linear_space(start, stop, num):\n",
    " import numpy as np\n",
    " return np.linspace(start, stop, num)\n",
    "result = generate_linear_space(1.0, 10.0, 5)\n",
    "print(result)\n"
   ]
  },
  {
   "cell_type": "code",
   "execution_count": 66,
   "id": "d606cdb2-1cdf-4cfc-b69f-3c4ae57ad272",
   "metadata": {},
   "outputs": [
    {
     "name": "stdout",
     "output_type": "stream",
     "text": [
      "[[1. 0. 0.]\n",
      " [0. 1. 0.]\n",
      " [0. 0. 1.]]\n"
     ]
    }
   ],
   "source": [
    "import numpy as np\n",
    "def create_identify_matrix(n):\n",
    "    return np.eye(n)\n",
    "result = create_identify_matrix(3)\n",
    "print(result)"
   ]
  },
  {
   "cell_type": "code",
   "execution_count": 68,
   "id": "26cf1bb5-1350-40e9-8d13-ee2ab3061833",
   "metadata": {},
   "outputs": [
    {
     "name": "stdout",
     "output_type": "stream",
     "text": [
      "[1 2 3 4 5]\n"
     ]
    }
   ],
   "source": [
    "import numpy as np\n",
    "def list_to_array(py_list):\n",
    "    return np.array(py_list)\n",
    "my_list = [1, 2, 3, 4, 5]\n",
    "my_array = list_to_array(my_list)\n",
    "print(my_array)"
   ]
  },
  {
   "cell_type": "code",
   "execution_count": 72,
   "id": "143c3a7d-225c-43fd-99f7-c5bd1927576a",
   "metadata": {},
   "outputs": [
    {
     "name": "stdout",
     "output_type": "stream",
     "text": [
      "original Array: [99  2  3  4  5]\n",
      "Array View: [99  2  3  4  5]\n"
     ]
    }
   ],
   "source": [
    "import numpy as np\n",
    "original_array = np.array([1, 2, 3, 4, 5])\n",
    "array_view = original_array.view()\n",
    "array_view[0] = 99\n",
    "print(\"original Array:\",original_array)\n",
    "print(\"Array View:\",array_view)"
   ]
  },
  {
   "cell_type": "code",
   "execution_count": 78,
   "id": "66ecf47d-2de0-4187-b43a-05e54d55534f",
   "metadata": {},
   "outputs": [
    {
     "name": "stdout",
     "output_type": "stream",
     "text": [
      "[[1 2]\n",
      " [3 4]\n",
      " [5 6]]\n"
     ]
    }
   ],
   "source": [
    "import numpy as np\n",
    "def concatenate_arrays(array1,array2,axis):\n",
    " return np.concatenate((array1, array2), axis=axis)\n",
    "array1 = np.array([[1,2],[3,4]])\n",
    "array2 = np.array([[5,6]])\n",
    "result = concatenate_arrays(array1, array2, axis=0)\n",
    "print(result)"
   ]
  },
  {
   "cell_type": "code",
   "execution_count": 84,
   "id": "2e6d0105-6c3a-43a5-b994-50d4f5f2eeb3",
   "metadata": {},
   "outputs": [
    {
     "name": "stdout",
     "output_type": "stream",
     "text": [
      "[[1 2 3 7]\n",
      " [4 5 6 8]]\n"
     ]
    }
   ],
   "source": [
    "import numpy as np\n",
    "array1 = np.array([[1, 2, 3], [4, 5, 6]])\n",
    "array2 = np.array([[7,8]])\n",
    "result = np.concatenate((array1, array2.T), axis=1)\n",
    "print(result)"
   ]
  },
  {
   "cell_type": "code",
   "execution_count": 90,
   "id": "79335f2c-eeef-4f07-8dfe-d89e57283724",
   "metadata": {},
   "outputs": [
    {
     "name": "stdout",
     "output_type": "stream",
     "text": [
      "[[ 1  2]\n",
      " [ 3  4]\n",
      " [ 5  6]\n",
      " [ 7  8]\n",
      " [ 9 10]\n",
      " [11 12]]\n"
     ]
    }
   ],
   "source": [
    "import numpy as np\n",
    "def stack_vertically(arrays):\n",
    "    return np.vstack(arrays)\n",
    "a = np.array([[1,2], [3,4]])\n",
    "b = np.array([[5,6], [7,8]])\n",
    "c = np.array([[9,10], [11,12]])\n",
    "arrays = [a, b, c]\n",
    "stacked_array = stack_vertically(arrays)\n",
    "print(stacked_array)"
   ]
  },
  {
   "cell_type": "code",
   "execution_count": 92,
   "id": "5a9d5fa0-25c3-4449-b971-fb249001497d",
   "metadata": {},
   "outputs": [
    {
     "name": "stdout",
     "output_type": "stream",
     "text": [
      "[1 3 5 7 9]\n"
     ]
    }
   ],
   "source": [
    "import numpy as np\n",
    "def create_array(start, end, step):\n",
    "    return np.arange(start,end + 1, step)\n",
    "print(create_array(1, 10, 2))"
   ]
  },
  {
   "cell_type": "code",
   "execution_count": 111,
   "id": "56b16138-2d0c-4d1e-a723-fbf2e357ee76",
   "metadata": {},
   "outputs": [
    {
     "name": "stdout",
     "output_type": "stream",
     "text": [
      "[0.         0.11111111 0.22222222 0.33333333 0.44444444 0.55555556\n",
      " 0.66666667 0.77777778 0.88888889 1.        ]\n"
     ]
    }
   ],
   "source": [
    "import numpy as np\n",
    "def generate_equally_spaced_array():\n",
    "    return np.linspace(0, 1, 10)\n",
    "print(np.linspace(0, 1, 10))"
   ]
  },
  {
   "cell_type": "code",
   "execution_count": 113,
   "id": "e8c4dc2c-5407-47c5-ab25-6694e993ca5b",
   "metadata": {},
   "outputs": [
    {
     "name": "stdout",
     "output_type": "stream",
     "text": [
      "[   1.            5.62341325   31.6227766   177.827941   1000.        ]\n"
     ]
    }
   ],
   "source": [
    "import numpy as np\n",
    "values=np.logspace(0, 3, 5)\n",
    "print(values)"
   ]
  },
  {
   "cell_type": "code",
   "execution_count": 115,
   "id": "f260c45c-db92-4cbd-9013-114c91408f04",
   "metadata": {},
   "outputs": [
    {
     "name": "stdout",
     "output_type": "stream",
     "text": [
      "    A   B   C\n",
      "0  52  60  23\n",
      "1  24  51  72\n",
      "2  75  97  48\n",
      "3  60  85  52\n",
      "4  65  47   6\n"
     ]
    }
   ],
   "source": [
    "import numpy as np\n",
    "import pandas as pd\n",
    "data = np.random.randint(1, 101,size=(5,3))\n",
    "df = pd.DataFrame(data, columns=['A', 'B', 'C'])\n",
    "print(df)"
   ]
  },
  {
   "cell_type": "code",
   "execution_count": 121,
   "id": "7f57a118-4595-430b-ba90-c4a69b024ff1",
   "metadata": {},
   "outputs": [
    {
     "name": "stdout",
     "output_type": "stream",
     "text": [
      "   A   B\n",
      "0  1   5\n",
      "1  0  -6\n",
      "2  3   7\n",
      "3  0  -8\n"
     ]
    }
   ],
   "source": [
    "import pandas as pd\n",
    "import numpy as np\n",
    "df = pd.DataFrame({'A':[1, -2, 3, -4], ' B':[5, -6, 7, -8]})\n",
    "def replace_negatives_with_zero(df,column_name):\n",
    "    df[column_name] = np.where(df[column_name] <0, 0, df[column_name])\n",
    "    return df\n",
    "df = replace_negatives_with_zero(df,'A')\n",
    "print(df)"
   ]
  },
  {
   "cell_type": "code",
   "execution_count": 123,
   "id": "d7651fed-27d4-4dba-b1aa-ceb7de04b707",
   "metadata": {},
   "outputs": [
    {
     "name": "stdout",
     "output_type": "stream",
     "text": [
      "30\n"
     ]
    }
   ],
   "source": [
    "import numpy as np\n",
    "arr = np.array([10, 20, 30, 40, 50])\n",
    "third_element = arr[2]\n",
    "print(third_element)"
   ]
  },
  {
   "cell_type": "code",
   "execution_count": 135,
   "id": "a8ec98d6-1d31-4237-b523-48acb9d37de8",
   "metadata": {},
   "outputs": [
    {
     "name": "stdout",
     "output_type": "stream",
     "text": [
      "6\n"
     ]
    }
   ],
   "source": [
    "import numpy as np\n",
    "arr_2d = np.array([[1, 2, 3],[4, 5, 6],[7, 8, 9]])\n",
    "element = arr_2d[1,2]\n",
    "print(element)"
   ]
  },
  {
   "cell_type": "code",
   "execution_count": 141,
   "id": "65535693-f8a5-4c54-97bd-04de04714869",
   "metadata": {},
   "outputs": [
    {
     "name": "stdout",
     "output_type": "stream",
     "text": [
      "[8, 10, 7]\n"
     ]
    }
   ],
   "source": [
    "import numpy as np\n",
    "arr = np.array([3, 8,2, 10, 5, 7])\n",
    "condition = arr > 5\n",
    "condition = [False, True, False, True, False, True]\n",
    "result= arr[condition]\n",
    "result = [8, 10, 7]\n",
    "print(result)"
   ]
  },
  {
   "cell_type": "code",
   "execution_count": 143,
   "id": "014a9a00-037b-46e5-bd51-f171d1707b3c",
   "metadata": {},
   "outputs": [
    {
     "name": "stdout",
     "output_type": "stream",
     "text": [
      "[3 4 5 6]\n"
     ]
    }
   ],
   "source": [
    "import numpy as np\n",
    "arr = np.array([1, 2, 3, 4, 5,6,7,8,9])\n",
    "sliced_arr = arr[2:6]\n",
    "print(sliced_arr)"
   ]
  },
  {
   "cell_type": "code",
   "execution_count": 145,
   "id": "017104b9-bc81-4875-a438-8f38aa7c571a",
   "metadata": {},
   "outputs": [
    {
     "name": "stdout",
     "output_type": "stream",
     "text": [
      "[[5 6]\n",
      " [8 9]]\n"
     ]
    }
   ],
   "source": [
    "import numpy as np\n",
    "arr_2d = np.array([[1, 2, 3],\n",
    "                   [4, 5, 6],\n",
    "                   [7, 8, 9]])\n",
    "sub_array = arr_2d[1:3, 1:3]\n",
    "print(sub_array)\n",
    "                "
   ]
  },
  {
   "cell_type": "code",
   "execution_count": 153,
   "id": "ad6eb6fc-5c30-4dcf-9d56-8bc53259d9e4",
   "metadata": {},
   "outputs": [
    {
     "name": "stdout",
     "output_type": "stream",
     "text": [
      "[1 5 9]\n"
     ]
    }
   ],
   "source": [
    "import numpy as np\n",
    "def extract_elements(array_2d, indices):\n",
    "    rows,cols = zip(*indices)\n",
    "    extracted_elements = array_2d[rows, cols]\n",
    "    return extracted_elements\n",
    "array_2d = np.array([[1, 2, 3],[4, 5, 6], [7, 8, 9]])\n",
    "indices = [(0, 0), (1, 1), (2, 2)]\n",
    "result = extract_elements(array_2d, indices)\n",
    "print(result)"
   ]
  },
  {
   "cell_type": "code",
   "execution_count": 155,
   "id": "5c8789d5-29df-450c-8503-6d1ad7d5653b",
   "metadata": {},
   "outputs": [
    {
     "name": "stdout",
     "output_type": "stream",
     "text": [
      "[5 8 9]\n"
     ]
    }
   ],
   "source": [
    "import numpy as np\n",
    "def filter_greater_than_threshold(arr, threshild):\n",
    "    boolean_mask = arr > threshold\n",
    "    filtered_elements = arr[boolean_mask]\n",
    "    return filtered_elements\n",
    "arr = np.array([1, 5, 8, 2, 9, 4])\n",
    "threshold = 4\n",
    "result = filter_greater_than_threshold(arr, threshold)\n",
    "print(result)\n"
   ]
  },
  {
   "cell_type": "code",
   "execution_count": 195,
   "id": "f88039e9-518c-497d-a416-f19997a6f7ee",
   "metadata": {},
   "outputs": [
    {
     "name": "stdout",
     "output_type": "stream",
     "text": [
      "[ 6  8 16]\n"
     ]
    }
   ],
   "source": [
    "import numpy as np\n",
    "arr = np.array([[[1,2,3], [4,5,6]],\n",
    "                [[7,8,9],[10,11,12]],\n",
    "                [[13,14,15],[16,17,18]]])\n",
    "i_indices= np.array([0, 1, 2])\n",
    "j_indices= np.array([1, 0, 1])\n",
    "k_indices= np.array([2, 1, 0])\n",
    "def extract_elements(arr, i_indices, j_indices, k_indices):\n",
    "    return arr[i_indices, j_indices, k_indices]\n",
    "result = extract_elements(arr, i_indices, j_indices, k_indices)\n",
    "print(result)\n",
    "                 "
   ]
  },
  {
   "cell_type": "code",
   "execution_count": 197,
   "id": "2fe1b1d0-295d-4b49-8d34-9eea19391016",
   "metadata": {},
   "outputs": [
    {
     "name": "stdout",
     "output_type": "stream",
     "text": [
      "[6 8]\n"
     ]
    }
   ],
   "source": [
    "import numpy as np\n",
    "def filter_array(arr):\n",
    "    condition1 = arr > 5\n",
    "    condition2 = arr < 10\n",
    "    combined_condition = condition1 & condition2\n",
    "    result = arr[combined_condition]\n",
    "    return result\n",
    "arr = np.array([1, 6, 8, 10, 12])\n",
    "filtered_elements = filter_array(arr)\n",
    "print(filtered_elements)"
   ]
  },
  {
   "cell_type": "code",
   "execution_count": 223,
   "id": "2a253d95-7d45-412f-8ff2-e39fe4ad5f19",
   "metadata": {},
   "outputs": [
    {
     "name": "stdout",
     "output_type": "stream",
     "text": [
      "None\n"
     ]
    }
   ],
   "source": [
    "import numpy as np\n",
    "def extract_elesments(array, row_indices, col_indices):\n",
    "    row_indices = np.asarray(row_indices)\n",
    "    col_indices = np.asrray(col_indices)\n",
    "    if len(row_indices) != len(col_indices):\n",
    "        raise ValueError(\"row_indices and col_indices must have the same length\")\n",
    "        extracted_elements = array[row_indices, col_indices]\n",
    "        return extraacted_elements\n",
    "array = np.array([[10, 20, 30], [40, 50, 60], [70, 80, 90]])\n",
    "row_indices = np.array([0, 1, 2])\n",
    "col_indices = np.array([1, 0, 2])\n",
    "result = extract_elements(array, row_indices, col_indices)\n",
    "print(result)\n",
    "    "
   ]
  },
  {
   "cell_type": "code",
   "execution_count": 227,
   "id": "50f0a219-b614-4140-b9d0-af76944efac5",
   "metadata": {},
   "outputs": [
    {
     "name": "stdout",
     "output_type": "stream",
     "text": [
      "[[ 6  7  8]\n",
      " [ 9 10 11]\n",
      " [12 13 14]]\n"
     ]
    }
   ],
   "source": [
    "import numpy as np\n",
    "arr = np.array([[1, 2, 3], [4, 5, 6], [7, 8, 9]])\n",
    "result = arr + 5\n",
    "print(result)"
   ]
  },
  {
   "cell_type": "code",
   "execution_count": 241,
   "id": "68d43932-00c9-44e9-9740-89440387934b",
   "metadata": {},
   "outputs": [
    {
     "name": "stdout",
     "output_type": "stream",
     "text": [
      "[[ 2  4  6  8]\n",
      " [15 18 21 24]\n",
      " [36 40 44 48]]\n"
     ]
    }
   ],
   "source": [
    "import numpy as np\n",
    "arr1 = np.array([[2, 3, 4]])\n",
    "arr2 = np.array([[1, 2, 3, 4],\n",
    "                [5, 6, 7, 8],\n",
    "                [9, 10, 11, 12]])\n",
    "result = arr2 * arr1.T\n",
    "print(result)\n"
   ]
  },
  {
   "cell_type": "code",
   "execution_count": 243,
   "id": "6f6153bf-27de-47e9-a6f5-22c7a1a7c877",
   "metadata": {},
   "outputs": [
    {
     "name": "stdout",
     "output_type": "stream",
     "text": [
      "[[ 6  7  8]\n",
      " [10 11 12]\n",
      " [14 15 16]\n",
      " [18 19 20]]\n"
     ]
    }
   ],
   "source": [
    "import numpy as np\n",
    "arr1 = np.array([[1, 2, 3, 4]])\n",
    "arr2 = np.array([[5, 6, 7],\n",
    "                 [8, 9, 10],\n",
    "                 [11, 12, 13],\n",
    "                 [14, 15, 16]])\n",
    "result = (arr2.T + arr1).T\n",
    "print(result)"
   ]
  },
  {
   "cell_type": "code",
   "execution_count": 245,
   "id": "93e061c5-4675-4ae0-8da1-5ed077338e13",
   "metadata": {},
   "outputs": [
    {
     "name": "stdout",
     "output_type": "stream",
     "text": [
      "[[5 6 7]\n",
      " [6 7 8]\n",
      " [7 8 9]]\n"
     ]
    }
   ],
   "source": [
    "import numpy as np\n",
    "arr1 = np.array([[1], [2], [3]])\n",
    "arr2 = np.array([[4, 5, 6]])\n",
    "result = arr1 + arr2\n",
    "print(result)"
   ]
  },
  {
   "cell_type": "code",
   "execution_count": 249,
   "id": "31277da5-16b1-4580-bca6-1a059127efe1",
   "metadata": {},
   "outputs": [
    {
     "name": "stdout",
     "output_type": "stream",
     "text": [
      "[[[ 1  2  3]\n",
      "  [ 8 10 12]]\n",
      "\n",
      " [[ 3  6  9]\n",
      "  [16 20 24]]]\n"
     ]
    }
   ],
   "source": [
    "import numpy as np\n",
    "arr1 = np.array([[1, 2, 3], [4, 5, 6]])\n",
    "arr2 = np.array([[1,2], [3,4]])\n",
    "arr2_reshaped = arr2[:, :, np.newaxis]\n",
    "result = arr1 * arr2_reshaped\n",
    "print(result)"
   ]
  },
  {
   "cell_type": "code",
   "execution_count": 251,
   "id": "14701f24-4bb7-4de1-8602-e7c4dee60f38",
   "metadata": {},
   "outputs": [
    {
     "name": "stdout",
     "output_type": "stream",
     "text": [
      "[2.5 3.5 4.5]\n"
     ]
    }
   ],
   "source": [
    "import numpy as np\n",
    "arr = np.array([[1, 2, 3], [4, 5, 6]])\n",
    "column_mean = np.mean(arr, axis=0)\n",
    "print(column_mean)"
   ]
  },
  {
   "cell_type": "code",
   "execution_count": 255,
   "id": "79a3bc0a-6895-46cb-ba0f-930e11cfefb6",
   "metadata": {},
   "outputs": [
    {
     "name": "stdout",
     "output_type": "stream",
     "text": [
      "[3 6]\n"
     ]
    }
   ],
   "source": [
    "import numpy as np\n",
    "arr = np.array([[1, 2, 3], [4, 5, 6]])\n",
    "max_values = np.max(arr, axis=1)\n",
    "print(max_values)"
   ]
  },
  {
   "cell_type": "code",
   "execution_count": 259,
   "id": "1cf53e1a-5cca-4d41-85fb-b70306e16941",
   "metadata": {},
   "outputs": [
    {
     "name": "stdout",
     "output_type": "stream",
     "text": [
      "[1 1 1]\n"
     ]
    }
   ],
   "source": [
    "import numpy as np\n",
    "arr = np.array([[1, 2, 3], [4, 5, 6]])\n",
    "max_indices = np.argmax(arr, axis=0)\n",
    "print(max_indices)"
   ]
  },
  {
   "cell_type": "code",
   "execution_count": 263,
   "id": "b209fdb5-4a8b-4035-ab83-29e21e308719",
   "metadata": {},
   "outputs": [
    {
     "name": "stdout",
     "output_type": "stream",
     "text": [
      "[[ 1  3  6]\n",
      " [ 4  9 15]]\n"
     ]
    }
   ],
   "source": [
    "import numpy as np\n",
    "arr = np.array([[1, 2, 3], [4, 5, 6]])\n",
    "moving_sum = np.cumsum(arr, axis=1)\n",
    "print(moving_sum)"
   ]
  },
  {
   "cell_type": "code",
   "execution_count": 267,
   "id": "489b17b8-9769-4903-b5b1-7a1e8f6abfde",
   "metadata": {},
   "outputs": [
    {
     "name": "stdout",
     "output_type": "stream",
     "text": [
      "[False False False]\n"
     ]
    }
   ],
   "source": [
    "import numpy as np\n",
    "arr = np.array([[2, 4, 6], [3, 5, 7]])\n",
    "even_mask = arr % 2 ==0\n",
    "result = np.all(even_mask, axis=0)\n",
    "print(result)"
   ]
  },
  {
   "cell_type": "code",
   "execution_count": 273,
   "id": "d10f2b3f-d313-45b3-9acc-9e706b328c54",
   "metadata": {},
   "outputs": [
    {
     "name": "stdout",
     "output_type": "stream",
     "text": [
      "[[1 2 3]\n",
      " [4 5 6]\n",
      " [7 8 9]]\n"
     ]
    }
   ],
   "source": [
    "import numpy as np\n",
    "arr = np.array([1, 2, 3, 4, 5, 6,7,8,9])\n",
    "reshaped_arr = arr.reshape(3,3)\n",
    "print(reshaped_arr)"
   ]
  },
  {
   "cell_type": "code",
   "execution_count": 275,
   "id": "1ce55d5f-0179-49f1-a4c2-6626b319ef46",
   "metadata": {},
   "outputs": [
    {
     "name": "stdout",
     "output_type": "stream",
     "text": [
      "[1 2 3 4 5 6]\n"
     ]
    }
   ],
   "source": [
    "import numpy as np\n",
    "def flatten_matrix(matrix):\n",
    "    return matrix.flatten()\n",
    "input_matrix = np.array([[1,2, 3], [4, 5, 6]])\n",
    "flattened_array = flatten_matrix(input_matrix)\n",
    "print(flattened_array)"
   ]
  },
  {
   "cell_type": "code",
   "execution_count": 277,
   "id": "d5d671e0-e38c-44b7-a36f-a5718a17146b",
   "metadata": {},
   "outputs": [
    {
     "name": "stdout",
     "output_type": "stream",
     "text": [
      "[[1 2]\n",
      " [3 4]\n",
      " [5 6]\n",
      " [7 8]]\n"
     ]
    }
   ],
   "source": [
    "import numpy as np\n",
    "array1 = np.array([[1, 2], [3, 4]])\n",
    "array2 = np.array([[5, 6], [7, 8]])\n",
    "result = np.concatenate((array1, array2), axis=0)\n",
    "print(result)"
   ]
  },
  {
   "cell_type": "code",
   "execution_count": 279,
   "id": "16c30288-e1e7-4b90-8879-2073c308328f",
   "metadata": {},
   "outputs": [
    {
     "name": "stdout",
     "output_type": "stream",
     "text": [
      "[array([[1, 2, 3]]), array([[4, 5, 6]]), array([[7, 8, 9]])]\n",
      "[array([[1],\n",
      "       [4],\n",
      "       [7]]), array([[2],\n",
      "       [5],\n",
      "       [8]]), array([[3],\n",
      "       [6],\n",
      "       [9]])]\n"
     ]
    }
   ],
   "source": [
    "import numpy as np\n",
    "original_array = np.array([[1, 2, 3], [4, 5, 6], [7, 8, 9]])\n",
    "def split_array(array, num_splits, axis):\n",
    "    return np.split(array, num_splits, axis=axis)\n",
    "sub_arrays_axis0 = split_array(original_array, 3, axis=0)\n",
    "print(sub_arrays_axis0)\n",
    "sub_arrays_axis1 = split_array(original_array, 3, axis=1)\n",
    "print(sub_arrays_axis1)"
   ]
  },
  {
   "cell_type": "code",
   "execution_count": 285,
   "id": "07e76477-16b9-4d9f-818e-9b5d6881a01e",
   "metadata": {},
   "outputs": [
    {
     "name": "stdout",
     "output_type": "stream",
     "text": [
      "[ 1  2 10  4  5]\n"
     ]
    }
   ],
   "source": [
    "import numpy as np\n",
    "def insert_and_delete_elements(original_array, indices_to_insert, values_to_insert, indices_to_delete):\n",
    "    array_list = original_array.tolist()\n",
    "    for index, value in zip(indices_to_insert, values_to_insert):\n",
    "        array_list.insert(index,value)\n",
    "        modified_array = np.array(array_list)\n",
    "        indices_to_delete_sorted = sorted(indices_to_delete, reverse=True)\n",
    "        for index in indices_to_delete_sorted:\n",
    "            if 0 <=index < len(modified_array):\n",
    "                modified_array = np.delete(modified_array, index)\n",
    "                return modified_array\n",
    "original_array = np.array([1, 2, 3, 4, 5])\n",
    "indices_to_insert = [2, 4]\n",
    "values_to_insert = [10, 11]\n",
    "indices_to_delete = [1, 3]\n",
    "result = insert_and_delete_elements(original_array, indices_to_insert, values_to_insert, indices_to_delete)\n",
    "print(result)"
   ]
  },
  {
   "cell_type": "code",
   "execution_count": 295,
   "id": "c59254ac-ca42-4710-ac11-6b6a2829d4a6",
   "metadata": {},
   "outputs": [
    {
     "name": "stdout",
     "output_type": "stream",
     "text": [
      "arr1:\n",
      "[[ 5 98 57]\n",
      " [67 52 46]\n",
      " [64 70 61]]\n",
      "arr2:\n",
      "[[1 2 3]\n",
      " [4 5 6]\n",
      " [7 8 9]]\n",
      "Result of element_wise addition:\n",
      "[[  6 100  60]\n",
      " [ 71  57  52]\n",
      " [ 71  78  70]]\n"
     ]
    }
   ],
   "source": [
    "import numpy as np\n",
    "arr1 = np.random.randint(1, 100, size=(3, 3))\n",
    "print(\"arr1:\")\n",
    "print(arr1)\n",
    "arr2 = np.arange(1, 10).reshape(3,3)\n",
    "print(\"arr2:\")\n",
    "print(arr2)\n",
    "result = arr1 + arr2\n",
    "print(\"Result of element_wise addition:\")\n",
    "print(result)"
   ]
  },
  {
   "cell_type": "code",
   "execution_count": 297,
   "id": "e26eeb7a-e4ed-46f7-91ff-84290d3edcc2",
   "metadata": {},
   "outputs": [
    {
     "name": "stdout",
     "output_type": "stream",
     "text": [
      "arr1:\n",
      "[10  9  8  7  6  5  4  3  2  1]\n",
      "arr2::\n",
      "[ 1  2  3  4  5  6  7  8  9 10]\n",
      "Result of element_wise subtration:\n",
      "[ 9  7  5  3  1 -1 -3 -5 -7 -9]\n"
     ]
    }
   ],
   "source": [
    "import numpy as np\n",
    "arr1 = np.arange(10, 0, -1)\n",
    "print(\"arr1:\")\n",
    "print(arr1)\n",
    "arr2 = np.arange(1, 11)\n",
    "print(\"arr2::\")\n",
    "print(arr2)\n",
    "result = arr1 - arr2\n",
    "print(\"Result of element_wise subtration:\")\n",
    "print(result)"
   ]
  },
  {
   "cell_type": "code",
   "execution_count": 299,
   "id": "d495b2b1-ca44-4caa-883d-e8aa31d5845c",
   "metadata": {},
   "outputs": [
    {
     "name": "stdout",
     "output_type": "stream",
     "text": [
      "arr1:\n",
      " [[2 5 4]\n",
      " [3 0 0]\n",
      " [4 5 3]]\n",
      "arr2:\n",
      " [[1 2 3]\n",
      " [4 5 1]\n",
      " [2 3 4]]\n",
      "Result of element -wise multiplication:\n",
      " [[ 2 10 12]\n",
      " [12  0  0]\n",
      " [ 8 15 12]]\n"
     ]
    }
   ],
   "source": [
    "import numpy as np\n",
    "arr1 = np.random.randint(0, 10, size=(3, 3))\n",
    "arr2 = np.array([[1, 2, 3], [4, 5, 1], [2, 3, 4]])\n",
    "result = arr1 * arr2\n",
    "print(\"arr1:\\n\", arr1)\n",
    "print(\"arr2:\\n\",arr2)\n",
    "print(\"Result of element -wise multiplication:\\n\",result)"
   ]
  },
  {
   "cell_type": "code",
   "execution_count": 301,
   "id": "7a38c9ce-6069-4178-b07c-e55b20bb8a29",
   "metadata": {},
   "outputs": [
    {
     "name": "stdout",
     "output_type": "stream",
     "text": [
      "[2. 2. 2. 2. 2.]\n"
     ]
    }
   ],
   "source": [
    "import numpy as np\n",
    "arr1 = np.array([2, 4, 6, 8, 10])\n",
    "arr2 = np.array([1, 2, 3, 4, 5])\n",
    "result = arr1 / arr2\n",
    "print(result)"
   ]
  },
  {
   "cell_type": "code",
   "execution_count": 303,
   "id": "05fd25b6-ae08-4193-afa9-aaacf88e83fc",
   "metadata": {},
   "outputs": [
    {
     "name": "stdout",
     "output_type": "stream",
     "text": [
      "[ 1 16 27 16  5]\n"
     ]
    }
   ],
   "source": [
    "import numpy as np\n",
    "arr1 = np.array([1, 2, 3, 4, 5])\n",
    "arr2 = np.array([5, 4, 3, 2, 1])\n",
    "result = arr1 ** arr2\n",
    "print(result)"
   ]
  },
  {
   "cell_type": "code",
   "execution_count": 307,
   "id": "7d5a6b51-ddd3-4a1c-857b-18e7c1469abb",
   "metadata": {},
   "outputs": [
    {
     "name": "stdout",
     "output_type": "stream",
     "text": [
      "3\n"
     ]
    }
   ],
   "source": [
    "import numpy as np\n",
    "def count_substring(arr, substring):\n",
    "    counts = np.char.count(arr, substring)\n",
    "    total_count = np.sum(counts)\n",
    "    return total_count\n",
    "arr = np.array(['hello', 'world', 'hello', 'numpy', 'hello'])\n",
    "substring = 'hello'\n",
    "print(count_substring(arr,substring))"
   ]
  },
  {
   "cell_type": "code",
   "execution_count": 328,
   "id": "4ded8af7-c159-4e8d-a9f0-e5f5405fd1f5",
   "metadata": {},
   "outputs": [
    {
     "name": "stdout",
     "output_type": "stream",
     "text": [
      "['H' 'W' 'O' 'A' 'I' 'G' 'P' 'T']\n"
     ]
    }
   ],
   "source": [
    "import numpy as np\n",
    "def extract_uppercase(arr):\n",
    "    uppercase_chars = []\n",
    "    for string in arr:\n",
    "        for char in string:\n",
    "            if char.isupper():\n",
    "                uppercase_chars.append(char)\n",
    "    return np.array(uppercase_chars)\n",
    "arr = np.array(['Hello', 'Worl', 'OpenAI', 'GPT'])\n",
    "result = extract_uppercase(arr)\n",
    "print(result)"
   ]
  },
  {
   "cell_type": "code",
   "execution_count": 332,
   "id": "98ba73e6-cb6f-4f95-8518-37cd5957096a",
   "metadata": {},
   "outputs": [
    {
     "name": "stdout",
     "output_type": "stream",
     "text": [
      "['orange' 'banana' 'grape' 'pineorange']\n"
     ]
    }
   ],
   "source": [
    "import numpy as np\n",
    "arr = np.array(['apple', 'banana', 'grape', 'pineapple'])\n",
    "new_arr = np.char.replace(arr, 'apple', 'orange')\n",
    "print(new_arr)"
   ]
  },
  {
   "cell_type": "code",
   "execution_count": 336,
   "id": "9e9a3b08-0d44-47e7-b842-7bc1fb260eba",
   "metadata": {},
   "outputs": [
    {
     "name": "stdout",
     "output_type": "stream",
     "text": [
      "['HelloOpen' 'worldAI']\n"
     ]
    }
   ],
   "source": [
    "import numpy as np\n",
    "arr1 = np.array(['Hello', 'world'])\n",
    "arr2 = np.array(['Open', 'AI'])\n",
    "result = np.char.add(arr1, arr2)\n",
    "print(result)"
   ]
  },
  {
   "cell_type": "code",
   "execution_count": 1,
   "id": "2752a9b4-14b7-4448-8595-dccd7fabd252",
   "metadata": {},
   "outputs": [
    {
     "name": "stdout",
     "output_type": "stream",
     "text": [
      "9\n"
     ]
    }
   ],
   "source": [
    "import numpy as np\n",
    "arr = np.array(['apple', 'banana', 'grape', 'pineapple'])\n",
    "lengths = np.array([len(s) for s in arr])\n",
    "max_length = np.max(lengths)\n",
    "print(max_length)"
   ]
  },
  {
   "cell_type": "code",
   "execution_count": 5,
   "id": "375a09ff-aa9b-46f6-a176-d85bdc501780",
   "metadata": {},
   "outputs": [
    {
     "name": "stdout",
     "output_type": "stream",
     "text": [
      "Mean: 535.11\n",
      "Median: 560.5\n",
      "Vaiance: 101958.21789999999\n",
      "Standad Deviation: 319.3089693384763\n"
     ]
    }
   ],
   "source": [
    "import numpy as np\n",
    "dataset = np.random.randint(1, 1001, size=100)\n",
    "mean = np.mean(dataset)\n",
    "median =  np.median(dataset)\n",
    "variance = np.var(dataset)\n",
    "std_deviation = np.std(dataset)\n",
    "print(f\"Mean: {mean}\")\n",
    "print(f\"Median: {median}\")\n",
    "print(f\"Vaiance: {variance}\")\n",
    "print(f\"Standad Deviation: {std_deviation}\")"
   ]
  },
  {
   "cell_type": "code",
   "execution_count": 37,
   "id": "88ee88ac-bd97-480e-ba31-bbc473424534",
   "metadata": {},
   "outputs": [
    {
     "name": "stdout",
     "output_type": "stream",
     "text": [
      "[2, 44, 49, 39, 94, 38, 45, 59, 80, 38, 56, 72, 61, 39, 47, 95, 66, 50, 2, 8, 23, 28, 35, 21, 84, 32, 52, 71, 83, 1, 38, 30, 20, 58, 3, 12, 51, 83, 68, 41, 57, 94, 51, 60, 59, 36, 95, 49, 97, 29]\n",
      "25th Percentile: 20.5\n",
      "75th Percentile: 64.75\n"
     ]
    }
   ],
   "source": [
    "import random\n",
    "random_numbers = [random.randint(1, 100) for _ in range(50)]\n",
    "print(random_numbers)\n",
    "import numpy as np\n",
    "random_numbers = [random.randint(1,100) for _ in range(50)]\n",
    "percentile_25 = np.percentile(random_numbers, 25)\n",
    "percentile_75 = np.percentile(random_numbers, 75)\n",
    "print(f\"25th Percentile: {percentile_25}\")\n",
    "print(f\"75th Percentile: {percentile_75}\")\n",
    "                              "
   ]
  },
  {
   "cell_type": "code",
   "execution_count": 39,
   "id": "50b154be-7523-45b5-b6e4-7b9ac56a8ded",
   "metadata": {},
   "outputs": [
    {
     "name": "stdout",
     "output_type": "stream",
     "text": [
      "[[1. 1.]\n",
      " [1. 1.]]\n"
     ]
    }
   ],
   "source": [
    "import numpy as np\n",
    "array1 = np.array([1, 2, 3, 4, 5])\n",
    "array2 = np.array([2, 4, 6, 8, 10])\n",
    "correlation_matrix = np.corrcoef(array1, array2)\n",
    "print(correlation_matrix)"
   ]
  },
  {
   "cell_type": "code",
   "execution_count": 43,
   "id": "8979c121-c38a-47ab-b1b3-d9ae265be855",
   "metadata": {},
   "outputs": [
    {
     "name": "stdout",
     "output_type": "stream",
     "text": [
      "[[19 22]\n",
      " [43 50]]\n"
     ]
    }
   ],
   "source": [
    "import numpy as np\n",
    "A = np.array([[1, 2],\n",
    "             [3, 4]])\n",
    "B = np.array([[5, 6],\n",
    "            [7, 8]])\n",
    "result = np.dot(A, B)\n",
    "print(result)"
   ]
  },
  {
   "cell_type": "code",
   "execution_count": 63,
   "id": "6f0f4667-2593-4d60-a649-2e9ae29b4b0e",
   "metadata": {},
   "outputs": [
    {
     "name": "stdout",
     "output_type": "stream",
     "text": [
      "10th percentile: 79.00000000000001\n",
      "50th percentile (median): 537.5\n",
      "90th perccentile: 895.1\n",
      " First Quartile (Q1): 223.0\n",
      " Third Quratile (Q3): 738.5\n"
     ]
    }
   ],
   "source": [
    "import numpy as np\n",
    "array = np.random.randint(10, 1001, size=50)\n",
    "array.sort()\n",
    "percentile_10 = np.percentile(array, 10)\n",
    "percentile_50 = np.percentile(array, 50)\n",
    "percentile_90 = np.percentile(array, 90)\n",
    "quartile_1= np.percentile(array, 25)\n",
    "quartile_3 =np.percentile(array, 75)\n",
    "\n",
    "print(f\"10th percentile: {percentile_10}\" )\n",
    "print(f\"50th percentile (median): {percentile_50}\")\n",
    "print(f\"90th perccentile: {percentile_90}\")\n",
    "print(f\" First Quartile (Q1): {quartile_1}\")\n",
    "print(f\" Third Quratile (Q3): {quartile_3}\")\n"
   ]
  },
  {
   "cell_type": "code",
   "execution_count": 65,
   "id": "c614b660-0021-440e-9d21-1e1786ac1483",
   "metadata": {},
   "outputs": [
    {
     "name": "stdout",
     "output_type": "stream",
     "text": [
      "Index of 30: 2\n"
     ]
    }
   ],
   "source": [
    "import numpy as np\n",
    "array =np.array([10, 20, 30, 40, 50])\n",
    "index = np.where(array == 30)[0][0]\n",
    "print(\"Index of 30:\", index)"
   ]
  },
  {
   "cell_type": "code",
   "execution_count": 69,
   "id": "f74152c7-85d2-45c8-8be1-cb4461ee86e0",
   "metadata": {},
   "outputs": [
    {
     "name": "stdout",
     "output_type": "stream",
     "text": [
      "Random Array: [10 42 38 45 68 20 42 67 75 61]\n",
      "Sorted Array: [10 20 38 42 42 45 61 67 68 75]\n"
     ]
    }
   ],
   "source": [
    "import numpy as np\n",
    "random_array = np.random.randint(0, 100, size=10)\n",
    "print(\"Random Array:\", random_array)\n",
    "sorted_array = np.sort(random_array)\n",
    "print(\"Sorted Array:\", sorted_array)"
   ]
  },
  {
   "cell_type": "code",
   "execution_count": 75,
   "id": "8bd6fa24-40aa-4db2-ab39-656d8cf52de5",
   "metadata": {},
   "outputs": [
    {
     "name": "stdout",
     "output_type": "stream",
     "text": [
      "[25 42 30]\n"
     ]
    }
   ],
   "source": [
    "import numpy as np\n",
    "arr = np.array([12,  25, 6, 42, 8, 30])\n",
    "filtered_arr = arr[arr > 20]\n",
    "print(filtered_arr)"
   ]
  },
  {
   "cell_type": "code",
   "execution_count": 79,
   "id": "33430874-b299-4345-b25d-2ff21f6f98c8",
   "metadata": {},
   "outputs": [
    {
     "name": "stdout",
     "output_type": "stream",
     "text": [
      "[12 15]\n"
     ]
    }
   ],
   "source": [
    "import numpy as np\n",
    "arr = np.array([1, 5, 8, 12, 15])\n",
    "mask = arr % 3 == 0\n",
    "filtered_arr = arr[mask]\n",
    "print(filtered_arr)"
   ]
  },
  {
   "cell_type": "code",
   "execution_count": 83,
   "id": "abcc1115-c1b6-4ee5-b022-1398698a9ceb",
   "metadata": {},
   "outputs": [
    {
     "name": "stdout",
     "output_type": "stream",
     "text": [
      "[20 30 40]\n"
     ]
    }
   ],
   "source": [
    "import numpy as np\n",
    "arr = np.array([10, 20, 30, 40, 50])\n",
    "condition = (arr >= 20) & (arr <= 40)\n",
    "filtered_arr = arr[condition]\n",
    "print(filtered_arr)"
   ]
  },
  {
   "cell_type": "code",
   "execution_count": 85,
   "id": "4a6e3df6-4353-4849-a43a-ab4fec504f25",
   "metadata": {},
   "outputs": [
    {
     "name": "stdout",
     "output_type": "stream",
     "text": [
      "=\n"
     ]
    }
   ],
   "source": [
    "import numpy as np\n",
    "arr = np.array([1, 2, 3])\n",
    "byte_order = arr.dtype.byteorder\n",
    "print(byte_order)"
   ]
  },
  {
   "cell_type": "code",
   "execution_count": 95,
   "id": "7fea97d9-5838-448e-8412-4af350cc3a5b",
   "metadata": {},
   "outputs": [
    {
     "name": "stdout",
     "output_type": "stream",
     "text": [
      "Original array: [1 2 3]\n",
      "Array after beswap: [16777216 33554432 50331648]\n"
     ]
    }
   ],
   "source": [
    "import numpy as np\n",
    "arr = np.array([1, 2, 3], dtype=np.int32)\n",
    "print(\"Original array:\", arr)\n",
    "arr.byteswap(inplace=True)\n",
    "print(\"Array after beswap:\",arr)\n"
   ]
  },
  {
   "cell_type": "code",
   "execution_count": 101,
   "id": "0e692dd5-6544-4e89-9c1d-1d7079d0189b",
   "metadata": {},
   "outputs": [
    {
     "name": "stdout",
     "output_type": "stream",
     "text": [
      "Original array: [1 2 3]\n",
      "Swapped byte order array: [16777216 33554432 50331648]\n"
     ]
    }
   ],
   "source": [
    "import numpy as np\n",
    "arr = np.array([1, 2, 3], dtype=np.int32)\n",
    "swapped_arr = arr.newbyteorder()\n",
    "print(\"Original array:\", arr)\n",
    "print(\"Swapped byte order array:\", swapped_arr)"
   ]
  },
  {
   "cell_type": "code",
   "execution_count": 111,
   "id": "99c5142f-66db-4ffe-bf3c-8239c373aa9b",
   "metadata": {},
   "outputs": [
    {
     "name": "stdout",
     "output_type": "stream",
     "text": [
      "Original byte order: =\n",
      "Swapped byte  order: >\n",
      "Original array: [1 2 3]\n",
      "Array after conditional byte swap : [16777216 33554432 50331648]\n"
     ]
    }
   ],
   "source": [
    "import numpy as np\n",
    "arr = np.array([1, 2, 3], dtype = np.int32)\n",
    "print(f\"Original byte order: {arr. dtype.byteorder}\")\n",
    "if arr.dtype.byteorder == '=': \n",
    "    swapped_ar = arr.newbyteorder('>')\n",
    "    print(f\"Swapped byte  order: {swapped_arr.dtype.byteorder}\")\n",
    "else:\n",
    "    swapped_arr = arr\n",
    "print(f\"Original array: {arr}\")\n",
    "print(f\"Array after conditional byte swap : {swapped_arr}\")"
   ]
  },
  {
   "cell_type": "code",
   "execution_count": 113,
   "id": "e9959e3b-7ed9-47d6-9dcc-5c4ba299413f",
   "metadata": {},
   "outputs": [
    {
     "name": "stdout",
     "output_type": "stream",
     "text": [
      "Byte order of the array's dtype: =\n"
     ]
    }
   ],
   "source": [
    "import numpy as np\n",
    "arr = np.array([1, 2, 3], dtype=np.int32)\n",
    "print(\"Byte order of the array's dtype:\", arr.dtype.byteorder)"
   ]
  },
  {
   "cell_type": "code",
   "execution_count": 115,
   "id": "73dcfa2d-ebbd-4353-9e9b-7d6dbafe6d04",
   "metadata": {},
   "outputs": [
    {
     "name": "stdout",
     "output_type": "stream",
     "text": [
      "arr1: [ 1  2  3  4  5  6  7  8  9 10]\n",
      "copy_arr: [99  2  3  4  5  6  7  8  9 10]\n"
     ]
    }
   ],
   "source": [
    "import numpy as np\n",
    "arr1 = np.arange(1, 11)\n",
    "copy_arr = arr1.copy()\n",
    "copy_arr[0] = 99\n",
    "print(\"arr1:\", arr1)\n",
    "print(\"copy_arr:\", copy_arr)"
   ]
  },
  {
   "cell_type": "code",
   "execution_count": 119,
   "id": "f0ac9f6c-7904-4409-ba6a-347d7de4d83e",
   "metadata": {},
   "outputs": [
    {
     "name": "stdout",
     "output_type": "stream",
     "text": [
      "[[  1   0   2]\n",
      " [  9 999   4]\n",
      " [  6   0   3]]\n"
     ]
    }
   ],
   "source": [
    "import numpy as np\n",
    "matrix = np.random.randint(0, 10, (3, 3))\n",
    "view_slice = matrix[1:3, 1:3]\n",
    "view_slice[0,0] = 999\n",
    "print(matrix)"
   ]
  },
  {
   "cell_type": "code",
   "execution_count": 123,
   "id": "e8c2c998-0650-4933-92d9-af69c704c88a",
   "metadata": {},
   "outputs": [
    {
     "name": "stdout",
     "output_type": "stream",
     "text": [
      "[[ 6  7  3]\n",
      " [ 9 10  6]\n",
      " [ 7  8  9]\n",
      " [10 11 12]]\n"
     ]
    }
   ],
   "source": [
    "import numpy as np\n",
    "array_a = np.arange(1, 13).reshape(4, 3)\n",
    "view_b = array_a[:2, :2]\n",
    "view_b += 5\n",
    "print(array_a)"
   ]
  },
  {
   "cell_type": "code",
   "execution_count": 127,
   "id": "a1efee6c-6899-48e6-8406-c8bdfc8baf6e",
   "metadata": {},
   "outputs": [
    {
     "name": "stdout",
     "output_type": "stream",
     "text": [
      "[[99  2  3  4]\n",
      " [ 5  6  7  8]]\n"
     ]
    }
   ],
   "source": [
    "import numpy as np\n",
    "orig_array = np.array([[1, 2, 3, 4], [5, 6, 7, 8]])\n",
    "reshaped_view = orig_array.reshape((4, 2))\n",
    "reshaped_view[0, 0]= 99\n",
    "print(orig_array)"
   ]
  },
  {
   "cell_type": "code",
   "execution_count": 129,
   "id": "35950518-f166-4c4d-a079-e4bab4a1ba65",
   "metadata": {},
   "outputs": [
    {
     "name": "stdout",
     "output_type": "stream",
     "text": [
      "original data:\n",
      " [[4 2 4 4]\n",
      " [1 6 3 5]\n",
      " [9 6 4 7]]\n",
      "Modified copy:\n",
      " [99  9  6  7]\n"
     ]
    }
   ],
   "source": [
    "import numpy as np\n",
    "data = np.random.randint(1, 10, size=(3, 4))\n",
    "data_copy = data[data > 5]\n",
    "data_copy[0] = 99\n",
    "print(\"original data:\\n\", data)\n",
    "print(\"Modified copy:\\n\", data_copy)"
   ]
  },
  {
   "cell_type": "code",
   "execution_count": 163,
   "id": "c3e1e8b0-9b6d-44b0-a7ef-56dd2ad7c64d",
   "metadata": {},
   "outputs": [
    {
     "name": "stdout",
     "output_type": "stream",
     "text": [
      "Matrix A:\n",
      "[1, 2, 3]\n",
      "[4, 5, 6]\n",
      "[7, 8, 9]\n",
      "\n",
      "Matrix B:\n",
      "[9, 8, 7]\n",
      "[6, 5, 4]\n",
      "[3, 2, 1]\n",
      "\n",
      "Matrix C (A + B):\n",
      "[10, 10, 10]\n",
      "[10, 10, 10]\n",
      "[10, 10, 10]\n",
      "\n",
      "Matrix D (A - B):\n",
      "[-8, -6, -4]\n",
      "[-2, 0, 2]\n",
      "[4, 6, 8]\n"
     ]
    }
   ],
   "source": [
    " A =     [\n",
    "         [1, 2, 3],\n",
    "         [4, 5, 6],\n",
    "         [7, 8, 9]\n",
    " ]\n",
    "B  =      [ \n",
    "          [9, 8, 7],\n",
    "          [6, 5, 4],\n",
    "          [3, 2, 1]\n",
    "]\n",
    "\n",
    "C = [[A[i][j] + B[i][j] for j in range(len(A[0]))] for i in range(len(A))]\n",
    "D = [[A[i][j] - B[i][j] for j in range(len(A[0]))] for i in range(len(A))]\n",
    "print(\"Matrix A:\")\n",
    "for row in A:\n",
    "    print(row)\n",
    "print(\"\\nMatrix B:\")\n",
    "for row in B:\n",
    "    print(row)\n",
    "print(\"\\nMatrix C (A + B):\")\n",
    "for row in C:\n",
    "    print(row)\n",
    "print(\"\\nMatrix D (A - B):\")\n",
    "for row in D:\n",
    "    print(row)"
   ]
  },
  {
   "cell_type": "code",
   "execution_count": 157,
   "id": "eded7f00-7bf9-49e0-a2d0-54cb48cd6102",
   "metadata": {},
   "outputs": [
    {
     "name": "stdout",
     "output_type": "stream",
     "text": [
      "Matrix C:\n",
      "[[1 2]\n",
      " [3 4]\n",
      " [5 6]]\n",
      "\n",
      "Matrix D:\n",
      "[[ 7  8  9 10]\n",
      " [11 12 13 14]]\n",
      "\n",
      "Result of C*D:\n",
      "[[ 29  32  35  38]\n",
      " [ 65  72  79  86]\n",
      " [101 112 123 134]]\n"
     ]
    }
   ],
   "source": [
    "import numpy as np\n",
    "C = np.array([[1, 2],\n",
    "              [3, 4],\n",
    "              [5, 6]])\n",
    "D = np.array([[7, 8, 9, 10],\n",
    "              [11, 12, 13, 14]])\n",
    "result = np.dot(C, D)\n",
    "print(\"Matrix C:\")\n",
    "print(C)\n",
    "print(\"\\nMatrix D:\")\n",
    "print(D)\n",
    "print(\"\\nResult of C*D:\")\n",
    "print(result)\n"
   ]
  },
  {
   "cell_type": "code",
   "execution_count": 141,
   "id": "ba64e6e3-6b1f-48a9-b7a7-fddc25e0f244",
   "metadata": {},
   "outputs": [
    {
     "name": "stdout",
     "output_type": "stream",
     "text": [
      "Matrix E:\n",
      "[[1 2 3]\n",
      " [4 5 6]]\n",
      "Transpose of Matrix E:\n",
      "[[1 4]\n",
      " [2 5]\n",
      " [3 6]]\n"
     ]
    }
   ],
   "source": [
    "import numpy as np\n",
    "E = np.array([[1, 2, 3],\n",
    "              [4, 5, 6]])\n",
    "E_transpose = np.transpose(E)\n",
    "print(\"Matrix E:\")\n",
    "print(E)\n",
    "print(\"Transpose of Matrix E:\")\n",
    "print(E_transpose)"
   ]
  },
  {
   "cell_type": "code",
   "execution_count": 151,
   "id": "bb956c5b-eecd-4b4f-ad3c-26ad3de57970",
   "metadata": {},
   "outputs": [
    {
     "name": "stdout",
     "output_type": "stream",
     "text": [
      "-17.999999999999996\n"
     ]
    }
   ],
   "source": [
    "import numpy as np\n",
    "F = np.array([[1, 2, 3], [0, 4, 5], [7, 8, 9]])\n",
    "determinant = np.linalg.det(F)\n",
    "print(determinant)"
   ]
  },
  {
   "cell_type": "code",
   "execution_count": 153,
   "id": "f122c439-31ec-4419-8d3d-51abfab2c638",
   "metadata": {},
   "outputs": [
    {
     "name": "stdout",
     "output_type": "stream",
     "text": [
      "Orignal Matrix G:\n",
      "[[4 7 2]\n",
      " [3 6 1]\n",
      " [2 5 3]]\n",
      "\n",
      "Inverse of Matrix G:\n",
      "[[ 1.44444444 -1.22222222 -0.55555556]\n",
      " [-0.77777778  0.88888889  0.22222222]\n",
      " [ 0.33333333 -0.66666667  0.33333333]]\n",
      "\n",
      "G * G_inv (Should be the Identity Matrix):\n",
      "[[ 1.00000000e+00 -2.22044605e-16 -1.11022302e-16]\n",
      " [-6.10622664e-16  1.00000000e+00  5.55111512e-17]\n",
      " [ 0.00000000e+00  4.44089210e-16  1.00000000e+00]]\n"
     ]
    }
   ],
   "source": [
    "import numpy as np\n",
    "G = np.array([[4, 7, 2],\n",
    "              [3, 6, 1],\n",
    "              [2, 5, 3]])\n",
    "G_inv = np.linalg.inv(G)\n",
    "print(\"Orignal Matrix G:\")\n",
    "print(G)\n",
    "print(\"\\nInverse of Matrix G:\")\n",
    "print(G_inv)\n",
    "identity_matrix = np.dot(G, G_inv)\n",
    "print(\"\\nG * G_inv (Should be the Identity Matrix):\")\n",
    "print(identity_matrix)"
   ]
  },
  {
   "cell_type": "code",
   "execution_count": null,
   "id": "58e1469d-be57-43af-8f79-3b69d266c63f",
   "metadata": {},
   "outputs": [],
   "source": []
  }
 ],
 "metadata": {
  "kernelspec": {
   "display_name": "Python 3 (ipykernel)",
   "language": "python",
   "name": "python3"
  },
  "language_info": {
   "codemirror_mode": {
    "name": "ipython",
    "version": 3
   },
   "file_extension": ".py",
   "mimetype": "text/x-python",
   "name": "python",
   "nbconvert_exporter": "python",
   "pygments_lexer": "ipython3",
   "version": "3.12.4"
  }
 },
 "nbformat": 4,
 "nbformat_minor": 5
}
