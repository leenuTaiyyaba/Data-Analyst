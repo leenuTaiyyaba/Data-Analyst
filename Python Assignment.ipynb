{
 "cells": [
  {
   "cell_type": "code",
   "execution_count": 1,
   "id": "079cf07d-71e7-433e-844b-0f7834376c8b",
   "metadata": {},
   "outputs": [
    {
     "name": "stdout",
     "output_type": "stream",
     "text": [
      "olleh\n"
     ]
    }
   ],
   "source": [
    "input_string = \"hello\"\n",
    "reversed_string = input_string[::-1]\n",
    "print(reversed_string)"
   ]
  },
  {
   "cell_type": "code",
   "execution_count": 9,
   "id": "c6abb129-c8f2-4094-b670-195eec8d2aeb",
   "metadata": {},
   "outputs": [
    {
     "name": "stdout",
     "output_type": "stream",
     "text": [
      "The number of vowels in the string is: 3\n"
     ]
    }
   ],
   "source": [
    "def count_vowels(string):\n",
    "    vowels = \"aeiouAEIOU\"\n",
    "    count = 0\n",
    "    for char in string:\n",
    "        if char in vowels:\n",
    "           count += 1\n",
    "    return count\n",
    "string = \"Hello, World!\"\n",
    "vowel_count = count_vowels(string)\n",
    "print(f\"The number of vowels in the string is: {vowel_count}\")"
   ]
  },
  {
   "cell_type": "code",
   "execution_count": 11,
   "id": "412b9952-29b4-49ef-88ab-a915555cd35e",
   "metadata": {},
   "outputs": [
    {
     "name": "stdout",
     "output_type": "stream",
     "text": [
      "\"A man, a plan, a canal:Panama\" is a palindrome.\n"
     ]
    }
   ],
   "source": [
    "def is_palindrome(s):\n",
    "    cleaned_str = ''.join(char.lower() for char in s if char.isalnum())\n",
    "    return cleaned_str == cleaned_str[::-1]\n",
    "input_string = \"A man, a plan, a canal:Panama\"\n",
    "if is_palindrome(input_string):\n",
    "    print(f'\"{input_string}\" is a palindrome.')\n",
    "else:\n",
    "    print(f'\"{input_string}\" is not a palindrome.')"
   ]
  },
  {
   "cell_type": "code",
   "execution_count": 6,
   "id": "5d2ca637-af7c-4b50-a089-c5af665ff7b1",
   "metadata": {},
   "outputs": [
    {
     "name": "stdout",
     "output_type": "stream",
     "text": [
      "\"listen\" and \"silent\" are not anagrams.\n"
     ]
    }
   ],
   "source": [
    "def are_anagrams(str1, str2):\n",
    "    if len(str1) != len(str2):\n",
    "        return False\n",
    "string1 = \"listen\"\n",
    "string2 = \"silent\"\n",
    "if are_anagrams(string1, string2):\n",
    "    print(f'\"{string1}\" and \"{string2}\" are anagrams.')\n",
    "else:\n",
    "    print(f'\"{string1}\" and \"{string2}\" are not anagrams.')\n"
   ]
  },
  {
   "cell_type": "code",
   "execution_count": 8,
   "id": "26578efe-e629-4d0f-b59f-8918063b6b67",
   "metadata": {},
   "outputs": [
    {
     "name": "stdout",
     "output_type": "stream",
     "text": [
      "[0, 7]\n"
     ]
    }
   ],
   "source": [
    "def find_all_occurrences(main_string, substring):\n",
    "    result = []\n",
    "    sub_len = len(substring)\n",
    "    for i in range(len(main_string) - sub_len + 1):\n",
    "        if main_string[i:i + sub_len] == substring:\n",
    "            result.append(i)\n",
    "    return result\n",
    "main_string = \"abracadabra\"\n",
    "substring = \"abra\"\n",
    "occurrences = find_all_occurrences(main_string, substring)\n",
    "print(occurrences)"
   ]
  },
  {
   "cell_type": "code",
   "execution_count": 14,
   "id": "abed39f9-89e6-4888-84e5-26fbb38e43a4",
   "metadata": {},
   "outputs": [
    {
     "name": "stdout",
     "output_type": "stream",
     "text": [
      "a3b2c4d1\n"
     ]
    }
   ],
   "source": [
    "def compress_string(s):\n",
    "    if not s:\n",
    "        return \"\"\n",
    "    compressed = []\n",
    "    count = 1\n",
    "    for i in range(1, len(s)):\n",
    "        if s[i] == s[i - 1]:\n",
    "            count += 1\n",
    "        else:\n",
    "            compressed.append(s[i-1] + str(count))\n",
    "            count = 1\n",
    "    compressed.append(s[-1] + str(count))\n",
    "    return ''.join(compressed)\n",
    "input_string = \"aaabbccccd\"\n",
    "compressed_string = compress_string(input_string)\n",
    "print(compressed_string)"
   ]
  },
  {
   "cell_type": "code",
   "execution_count": 22,
   "id": "cee6fbde-13d9-4f9f-bf55-a821ef7dfcdf",
   "metadata": {},
   "outputs": [
    {
     "name": "stdout",
     "output_type": "stream",
     "text": [
      "True\n",
      "True\n"
     ]
    }
   ],
   "source": [
    "def has_unique_characters(s):\n",
    "    unique_chars = set()\n",
    "    for char in s:\n",
    "        if char in unique_chars:\n",
    "            return False\n",
    "            unique_chars.add(char)\n",
    "    return True\n",
    "print(has_unique_characters(\"abcde\"))\n",
    "print(has_unique_characters(\"hello\"))\n"
   ]
  },
  {
   "cell_type": "code",
   "execution_count": 24,
   "id": "7d0b6ad1-5f62-4f47-aeb8-617d74003d80",
   "metadata": {},
   "outputs": [
    {
     "name": "stdout",
     "output_type": "stream",
     "text": [
      "HELLO, WORLD!\n",
      "hello,world!\n"
     ]
    }
   ],
   "source": [
    "original_string =\"Hello, World!\"\n",
    "uppercase_string = original_string.upper()\n",
    "print(uppercase_string)\n",
    "original_string = \"Hello,World!\"\n",
    "lowercase_string = original_string.lower()\n",
    "print(lowercase_string)"
   ]
  },
  {
   "cell_type": "code",
   "execution_count": 26,
   "id": "f572e1fa-8a3f-4f21-9c00-a209bb6f1e26",
   "metadata": {},
   "outputs": [
    {
     "name": "stdout",
     "output_type": "stream",
     "text": [
      "Number of words: 7\n"
     ]
    }
   ],
   "source": [
    "def count_words(text):\n",
    "    words = text.split()\n",
    "    return len(words)\n",
    "text = \"Hello world, this is a sample text.\"\n",
    "word_count = count_words(text)\n",
    "print(\"Number of words:\",word_count)"
   ]
  },
  {
   "cell_type": "code",
   "execution_count": 28,
   "id": "965f7b4e-4dbe-4711-aadd-98f8f10226e1",
   "metadata": {},
   "outputs": [
    {
     "name": "stdout",
     "output_type": "stream",
     "text": [
      "Helloworld\n"
     ]
    }
   ],
   "source": [
    "str1 = \"Hello\"\n",
    "str2 = \"world\"\n",
    "result = ''.join([str1, str2])\n",
    "print(result)\n"
   ]
  },
  {
   "cell_type": "code",
   "execution_count": 32,
   "id": "66119dae-7359-4ed5-a7f3-17a6cd10aea3",
   "metadata": {},
   "outputs": [
    {
     "name": "stdout",
     "output_type": "stream",
     "text": [
      "[1, 2, 4, 5]\n"
     ]
    }
   ],
   "source": [
    "def remove_element(lst,element):\n",
    "    return [x for x in lst if x != element]\n",
    "my_list = [1,2,3,4,3,5,3]\n",
    "element_to_remove = 3\n",
    "new_list = remove_element(my_list,element_to_remove)\n",
    "print(new_list)"
   ]
  },
  {
   "cell_type": "code",
   "execution_count": 38,
   "id": "7d7774d1-b056-46cd-9f0d-43680c30821b",
   "metadata": {},
   "outputs": [
    {
     "name": "stdout",
     "output_type": "stream",
     "text": [
      "20\n"
     ]
    }
   ],
   "source": [
    "def find_second_largest(numbers):\n",
    "    if len(numbers) < 2:\n",
    "        return None\n",
    "    largest = second_largest = float('-inf')\n",
    "    for num in numbers:\n",
    "        if num> largest:\n",
    "            second_largest = largest\n",
    "            largest = num\n",
    "        elif num > second_largest and num < largest:\n",
    "            second_largest = num\n",
    "    if second_largest == float('-inf'):\n",
    "        return None\n",
    "    return second_largest\n",
    "numbers = [20, 8, 30, 10, 15]\n",
    "print(find_second_largest(numbers))\n",
    "\n",
    "\n"
   ]
  },
  {
   "cell_type": "code",
   "execution_count": 40,
   "id": "a4b380ff-240b-4e26-9bbe-e90632202d4a",
   "metadata": {},
   "outputs": [
    {
     "name": "stdout",
     "output_type": "stream",
     "text": [
      "{'apple': 3, 'banana': 2, 'orange': 1}\n"
     ]
    }
   ],
   "source": [
    "def count_occurrences(lst):\n",
    "    counts = {}\n",
    "    for element in lst:\n",
    "        if element in counts:\n",
    "            counts[element] += 1\n",
    "        else:\n",
    "            counts[element] = 1\n",
    "    return counts\n",
    "my_list = ['apple', 'banana', 'apple', 'orange', 'banana', 'apple']\n",
    "result = count_occurrences(my_list)\n",
    "print(result)"
   ]
  },
  {
   "cell_type": "code",
   "execution_count": 42,
   "id": "d7d7d1aa-2f73-4592-b682-cff334d0ab85",
   "metadata": {},
   "outputs": [
    {
     "name": "stdout",
     "output_type": "stream",
     "text": [
      "[5, 4, 3, 2, 1]\n"
     ]
    }
   ],
   "source": [
    "def reverse_list_in_place(lst):\n",
    "    left = 0\n",
    "    right = len(lst) - 1\n",
    "    while left < right:\n",
    "        lst[left], lst[right] = lst[right], lst[left]\n",
    "        left += 1\n",
    "        right -= 1\n",
    "my_list = [1, 2, 3, 4, 5]\n",
    "reverse_list_in_place(my_list)\n",
    "print(my_list)"
   ]
  },
  {
   "cell_type": "code",
   "execution_count": 47,
   "id": "61f7f6a1-9f77-44e7-9703-1e261acce25a",
   "metadata": {},
   "outputs": [
    {
     "name": "stdout",
     "output_type": "stream",
     "text": [
      "[1, 2, 3, 4, 5]\n"
     ]
    }
   ],
   "source": [
    "def remove_duplicates(original_list):\n",
    "    seen = set()\n",
    "    result = []\n",
    "    for item in original_list:\n",
    "        if item not in seen:\n",
    "            seen.add(item)\n",
    "            result.append(item)\n",
    "    return result\n",
    "original_list = [1, 2, 2, 3, 4, 4, 5]\n",
    "unique_list = remove_duplicates(original_list)\n",
    "print(unique_list)"
   ]
  },
  {
   "cell_type": "code",
   "execution_count": 51,
   "id": "4570c60a-0842-4148-93ef-b627df239d71",
   "metadata": {},
   "outputs": [
    {
     "name": "stdout",
     "output_type": "stream",
     "text": [
      "True\n",
      "True\n",
      "False\n"
     ]
    }
   ],
   "source": [
    "def is_sorted(lst):\n",
    "    if len(lst) < 2:\n",
    "        return True\n",
    "    ascending = True\n",
    "    descending = True\n",
    "    for i in range(1,len(lst)):\n",
    "        if lst[i] < lst[i - 1]:\n",
    "            ascending = False\n",
    "        if lst[i] > lst[i - 1]:\n",
    "            descending =False\n",
    "    return ascending or descending\n",
    "my_list = [1,2,3,4,5]\n",
    "print(is_sorted(my_list))\n",
    "my_list = [5, 4, 3, 2, 1]\n",
    "print(is_sorted(my_list))\n",
    "my_list = [1, 3, 2, 4, 5]\n",
    "print(is_sorted(my_list))"
   ]
  },
  {
   "cell_type": "code",
   "execution_count": 110,
   "id": "54c3b4c1-71ae-48e7-a452-8d9a76098a86",
   "metadata": {},
   "outputs": [
    {
     "name": "stdout",
     "output_type": "stream",
     "text": [
      "[1, 2, 3, 4, 5, 6]\n"
     ]
    }
   ],
   "source": [
    "def merge_sorted_lists(list1, list2):\n",
    "    i, j = 0, 0\n",
    "    merged_list = []\n",
    "    while i < len(list1) and j < len(list2):\n",
    "        if list1[i] < list2[j]:\n",
    "            merged_list.append(list1[i])\n",
    "            i += 1\n",
    "        else:\n",
    "           merged_list.append(list2[j])\n",
    "           j += 1\n",
    "    while i < len(list1):\n",
    "        merged_list.append(list1[i])\n",
    "        i += 1\n",
    "    while j < len(list2):\n",
    "        merged_list.append(list2[j])\n",
    "        j += 1\n",
    "    return merged_list\n",
    "list1 = [1, 3, 5]\n",
    "list2 = [2, 4, 6]\n",
    "print(merge_sorted_lists(list1, list2))\n",
    "    \n",
    "       "
   ]
  },
  {
   "cell_type": "code",
   "execution_count": 114,
   "id": "f9800ffc-3e28-48ef-858c-9fc08fe7f37e",
   "metadata": {},
   "outputs": [
    {
     "name": "stdout",
     "output_type": "stream",
     "text": [
      "[4, 5]\n"
     ]
    }
   ],
   "source": [
    "def find_intersection(list1, list2):\n",
    "    set1 = set(list1)\n",
    "    set2 = set(list2)\n",
    "    intersection = set1  & set2\n",
    "    return list(intersection)\n",
    "list1 = [1, 2, 3, 4, 5]\n",
    "list2 = [4, 5, 6, 7, 8]\n",
    "result = find_intersection(list1, list2)\n",
    "print(result)"
   ]
  },
  {
   "cell_type": "code",
   "execution_count": 116,
   "id": "54da80d5-17a9-4322-bb3e-d5a9e2371f1e",
   "metadata": {},
   "outputs": [
    {
     "name": "stdout",
     "output_type": "stream",
     "text": [
      "[1, 2, 3, 4, 5, 6]\n"
     ]
    }
   ],
   "source": [
    "list1 = [1, 2, 3, 4]\n",
    "list2 = [3, 4, 5, 6]\n",
    "union_set = set(list1).union(set(list2))\n",
    "union_list = list(union_set)\n",
    "print(union_list)\n"
   ]
  },
  {
   "cell_type": "code",
   "execution_count": 136,
   "id": "851d84a9-0ef8-4ae9-9e6d-436790fd26b5",
   "metadata": {},
   "outputs": [
    {
     "name": "stdout",
     "output_type": "stream",
     "text": [
      "[3, 1, 4, 2, 5]\n"
     ]
    }
   ],
   "source": [
    "import random\n",
    "def shuffle_list(my_list):\n",
    "    n = len(my_list)\n",
    "    for i in range(n-1, 0, -1):\n",
    "        j = random.randint(0, i)\n",
    "        my_list[i], my_list[j] = my_list[j], my_list[i]\n",
    "    return my_list\n",
    "my_list = [1, 2, 3,  4, 5]\n",
    "shuffled_list = shuffle_list(my_list)\n",
    "print(shuffled_list)"
   ]
  },
  {
   "cell_type": "code",
   "execution_count": 140,
   "id": "bb6767dc-b1e4-49da-b97b-df0056992c80",
   "metadata": {},
   "outputs": [
    {
     "name": "stdout",
     "output_type": "stream",
     "text": [
      "(3, 4, 5)\n"
     ]
    }
   ],
   "source": [
    "def common_elements_in_tuples(tuple1, tuple2):\n",
    "    common_elements = set(tuple1) & set(tuple2)\n",
    "    return tuple(common_elements)\n",
    "tuple1 = (1, 2, 3, 4, 5)\n",
    "tuple2 = (3, 4, 5, 6, 7)\n",
    "result = common_elements_in_tuples(tuple1, tuple2)\n",
    "print(result)"
   ]
  },
  {
   "cell_type": "code",
   "execution_count": 144,
   "id": "bba74911-16ac-49d7-a695-6c38b9680639",
   "metadata": {},
   "outputs": [
    {
     "name": "stdin",
     "output_type": "stream",
     "text": [
      "Enter the first set of integers separated by commas:  1,2,3,4\n",
      "Enter the second set of integers separated by commas:  3,4,5,6\n"
     ]
    },
    {
     "name": "stdout",
     "output_type": "stream",
     "text": [
      "The intersection of the two sets is: {3, 4}\n"
     ]
    }
   ],
   "source": [
    "set1 = set(map(int, input(\"Enter the first set of integers separated by commas: \").split(',')))\n",
    "set2 = set(map(int, input(\"Enter the second set of integers separated by commas: \").split(',')))\n",
    "intersection = set1 & set2\n",
    "print(\"The intersection of the two sets is:\",intersection)"
   ]
  },
  {
   "cell_type": "code",
   "execution_count": 146,
   "id": "9bcf3a6c-6ca3-4abc-9e32-afebed10c860",
   "metadata": {},
   "outputs": [
    {
     "name": "stdout",
     "output_type": "stream",
     "text": [
      "(1, 2, 3, 4, 5, 6)\n"
     ]
    }
   ],
   "source": [
    "def concatenate_tuples(tuple1, tuple2):\n",
    "    result = tuple1 + tuple2\n",
    "    return result\n",
    "tuple1 = (1, 2, 3)\n",
    "tuple2 = (4, 5, 6)\n",
    "new_tuple = concatenate_tuples(tuple1, tuple2)\n",
    "print(new_tuple)"
   ]
  },
  {
   "cell_type": "code",
   "execution_count": 178,
   "id": "c841f17e-c6d8-4865-8d55-b11ef001ae45",
   "metadata": {},
   "outputs": [
    {
     "name": "stdin",
     "output_type": "stream",
     "text": [
      "Enter elements for the first set (separated by spaces):  \"apple orange banana\"\n",
      "Enter elements for the second set (separated by spaces):  \"banana grape apple\"\n"
     ]
    },
    {
     "name": "stdout",
     "output_type": "stream",
     "text": [
      "Elements in the first set but not in the second set are: {'banana\"', '\"apple', 'orange'}\n"
     ]
    }
   ],
   "source": [
    "set1 = set(input(\"Enter elements for the first set (separated by spaces): \").split())\n",
    "set2 = set(input(\"Enter elements for the second set (separated by spaces): \").split())\n",
    "difference = set1 - set2\n",
    "print(\"Elements in the first set but not in the second set are:\",difference)"
   ]
  },
  {
   "cell_type": "code",
   "execution_count": 180,
   "id": "18977f5c-fc7b-4aba-b1e6-c59bf6cd8774",
   "metadata": {},
   "outputs": [
    {
     "name": "stdout",
     "output_type": "stream",
     "text": [
      "(30, 40, 50)\n"
     ]
    }
   ],
   "source": [
    "def slice_tuple(tup,start,end):\n",
    "    return tup[start:end]\n",
    "t = (10, 20, 30, 40, 50, 60)\n",
    "result = slice_tuple(t, 2, 5)\n",
    "print(result)"
   ]
  },
  {
   "cell_type": "code",
   "execution_count": 184,
   "id": "ec4712ad-1e07-41cc-a0ae-37cea87e1e8d",
   "metadata": {},
   "outputs": [
    {
     "name": "stdin",
     "output_type": "stream",
     "text": [
      "Enter the first set of characters:  \"Alice\"\n",
      "Enter the second set of characters:  \"Bob\"\n"
     ]
    },
    {
     "name": "stdout",
     "output_type": "stream",
     "text": [
      "The union of the two  sets  is: {'i', 'l', 'A', 'e', '\"', 'b', 'c', 'B', 'o'}\n"
     ]
    }
   ],
   "source": [
    "input1 = input(\"Enter the first set of characters: \")\n",
    "input2 = input(\"Enter the second set of characters: \")\n",
    "set1 = set(input1)\n",
    "set2 = set(input2)\n",
    "union_set = set1 | set2\n",
    "print(\"The union of the two  sets  is:\",union_set)"
   ]
  },
  {
   "cell_type": "code",
   "execution_count": 186,
   "id": "dc01fd16-c09b-45f5-9194-29ba2cf8226c",
   "metadata": {},
   "outputs": [
    {
     "name": "stdout",
     "output_type": "stream",
     "text": [
      "(7, 1)\n"
     ]
    }
   ],
   "source": [
    "def max_min_values(t):\n",
    "    maximum, minimum = max(t), min(t)\n",
    "    return maximum, minimum\n",
    "t = (3,1,7,2)\n",
    "print(max_min_values(t))"
   ]
  },
  {
   "cell_type": "code",
   "execution_count": 190,
   "id": "94e710e9-534d-4882-9980-07e263339da5",
   "metadata": {},
   "outputs": [
    {
     "name": "stdout",
     "output_type": "stream",
     "text": [
      "union: {1, 2, 3, 4, 5, 6}\n",
      "intersection: {3, 4}\n",
      "difference: {1, 2}\n"
     ]
    }
   ],
   "source": [
    "set1 = {1, 2, 3, 4}\n",
    "set2 = {3 ,4, 5, 6}\n",
    "print(\"union:\",set1.union(set2))\n",
    "print(\"intersection:\",set1.intersection(set2))\n",
    "print(\"difference:\",set1.difference(set2))\n"
   ]
  },
  {
   "cell_type": "code",
   "execution_count": 194,
   "id": "f3aeebe8-1eff-4e9a-bd0e-0f483b68ac45",
   "metadata": {},
   "outputs": [
    {
     "name": "stdout",
     "output_type": "stream",
     "text": [
      "3\n"
     ]
    }
   ],
   "source": [
    "def count_occurences(tup, element):\n",
    "    return tup.count(element)\n",
    "my_tuple = (1, 2, 2, 3, 4, 2)\n",
    "print(count_occurences(my_tuple, 2))"
   ]
  },
  {
   "cell_type": "code",
   "execution_count": 198,
   "id": "312d086c-17a5-4f28-b01f-6e2b68af0880",
   "metadata": {},
   "outputs": [
    {
     "name": "stdin",
     "output_type": "stream",
     "text": [
      "Enter the first set of strings (comma-separated):  (\",\")\n",
      "Enter thhe second set of stings (comma-separated):  (\",\")\n"
     ]
    },
    {
     "name": "stdout",
     "output_type": "stream",
     "text": [
      "The symmetric difference of the two sets is: set()\n"
     ]
    }
   ],
   "source": [
    "input1 = input(\"Enter the first set of strings (comma-separated): \")\n",
    "input2 = input(\"Enter thhe second set of stings (comma-separated): \")\n",
    "set1 = set(input1.split(\",\"))\n",
    "set2 = set(input2.split(\",\"))\n",
    "symmetric_difference = set1.symmetric_difference(set2)\n",
    "print(\"The symmetric difference of the two sets is:\",symmetric_difference)        "
   ]
  },
  {
   "cell_type": "code",
   "execution_count": 217,
   "id": "8a5d6d8d-78ce-4a83-84df-d16136f0a463",
   "metadata": {},
   "outputs": [],
   "source": [
    "def word_frequencies(word_list):\n",
    "    frequency_dict = {}\n",
    "    for word in word_list:\n",
    "        if word in frequency_dict:\n",
    "            frequency_dict[word] += 1\n",
    "        else:\n",
    "             frequency_dict[word] = 1\n",
    "    return frequency_dict"
   ]
  },
  {
   "cell_type": "code",
   "execution_count": 222,
   "id": "6c8ba908-70fc-413a-898b-472cc3c94c80",
   "metadata": {},
   "outputs": [
    {
     "name": "stdout",
     "output_type": "stream",
     "text": [
      "{'a': 5, 'b': 7, 'c': 3, 'd': 6}\n"
     ]
    }
   ],
   "source": [
    "def merge_dictionaries(dict1, dict2):\n",
    "    merged_dict = {}\n",
    "    for key, value in dict1.items():\n",
    "        merged_dict[key] = value\n",
    "    for key, value in dict2.items():\n",
    "        if key in merged_dict:\n",
    "            merged_dict[key] += value\n",
    "        else:\n",
    "            merged_dict[key] = value\n",
    "    return merged_dict\n",
    "dict1 = {'a' : 1, 'b': 2, 'c': 3}\n",
    "dict2 = {'a' : 4, 'b': 5, 'd': 6}\n",
    "result = merge_dictionaries(dict1, dict2)\n",
    "print(result)"
   ]
  },
  {
   "cell_type": "code",
   "execution_count": 232,
   "id": "15e3b93c-e92b-423d-85e9-46b066e3e200",
   "metadata": {},
   "outputs": [
    {
     "name": "stdout",
     "output_type": "stream",
     "text": [
      "42\n",
      "None\n",
      "None\n"
     ]
    }
   ],
   "source": [
    "def get_nested_value(d, keys):\n",
    "    current_value = d\n",
    "    for key in keys:\n",
    "        if isinstance(current_value, dict) and key in current_value:\n",
    "            current_value = current_value[key]\n",
    "        else:\n",
    "            return None\n",
    "    return current_value\n",
    "nested_dict = {\n",
    "    'a': {\n",
    "        'b': {\n",
    "            'c': 42\n",
    "        }\n",
    "    }\n",
    "}\n",
    "print(get_nested_value(nested_dict,['a','b','c']))\n",
    "print(get_nested_value(nested_dict,['a','b','x']))\n",
    "print(get_nested_value(nested_dict,['a','x','c']))\n",
    "            "
   ]
  },
  {
   "cell_type": "code",
   "execution_count": 238,
   "id": "674e514e-cd81-4211-879b-db1d4678c6b1",
   "metadata": {},
   "outputs": [
    {
     "name": "stdout",
     "output_type": "stream",
     "text": [
      "{'b': 1, 'c': 2, 'a': 3}\n",
      "{'a': 3, 'c': 2, 'b': 1}\n"
     ]
    }
   ],
   "source": [
    "def sort_dict_by_value(d, ascending= True):\n",
    "    items = list(d.items())\n",
    "    sorted_items = sorted(items, key=lambda x: x[1], reverse=not ascending)\n",
    "    sorted_dict = dict(sorted_items)\n",
    "    return sorted_dict\n",
    "my_dict = {'a': 3, 'b': 1, 'c': 2}\n",
    "print(sort_dict_by_value(my_dict, ascending=True))\n",
    "print(sort_dict_by_value(my_dict, ascending=False))"
   ]
  },
  {
   "cell_type": "code",
   "execution_count": 240,
   "id": "6c7922f0-a76c-4ecb-a313-ba6767e6258f",
   "metadata": {},
   "outputs": [
    {
     "name": "stdout",
     "output_type": "stream",
     "text": [
      "{1: ['a', 'c'], 2: ['b']}\n"
     ]
    }
   ],
   "source": [
    "def invert_dictionary(original_dict):\n",
    "    inverted_dict = {}\n",
    "    for key, value in original_dict.items():\n",
    "        if value not in inverted_dict:\n",
    "            inverted_dict[value] = [key]\n",
    "        else:\n",
    "            inverted_dict[value].append(key)\n",
    "    return inverted_dict\n",
    "original_dict = {\n",
    "    'a':1,\n",
    "    'b':2,\n",
    "     'c': 1\n",
    "}\n",
    "print(invert_dictionary(original_dict))\n"
   ]
  },
  {
   "cell_type": "code",
   "execution_count": null,
   "id": "ab6b5fac-cb07-4e92-baf9-eded7dbb9cdb",
   "metadata": {},
   "outputs": [],
   "source": []
  }
 ],
 "metadata": {
  "kernelspec": {
   "display_name": "Python 3 (ipykernel)",
   "language": "python",
   "name": "python3"
  },
  "language_info": {
   "codemirror_mode": {
    "name": "ipython",
    "version": 3
   },
   "file_extension": ".py",
   "mimetype": "text/x-python",
   "name": "python",
   "nbconvert_exporter": "python",
   "pygments_lexer": "ipython3",
   "version": "3.12.4"
  }
 },
 "nbformat": 4,
 "nbformat_minor": 5
}
